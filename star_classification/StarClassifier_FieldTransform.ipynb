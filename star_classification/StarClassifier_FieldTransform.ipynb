{
 "cells": [
  {
   "cell_type": "code",
   "execution_count": 8,
   "id": "e74d762d-7ddd-449b-a519-3c7087f3ab16",
   "metadata": {},
   "outputs": [],
   "source": [
    "import numpy as np\n",
    "import pandas as pd\n",
    "\n",
    "import matplotlib.pyplot as plt\n",
    "import seaborn as sns"
   ]
  },
  {
   "cell_type": "code",
   "execution_count": 9,
   "id": "b0372724-dd19-4e6a-ae65-7cd1c5ac6f1b",
   "metadata": {},
   "outputs": [
    {
     "data": {
      "text/html": [
       "<div>\n",
       "<style scoped>\n",
       "    .dataframe tbody tr th:only-of-type {\n",
       "        vertical-align: middle;\n",
       "    }\n",
       "\n",
       "    .dataframe tbody tr th {\n",
       "        vertical-align: top;\n",
       "    }\n",
       "\n",
       "    .dataframe thead th {\n",
       "        text-align: right;\n",
       "    }\n",
       "</style>\n",
       "<table border=\"1\" class=\"dataframe\">\n",
       "  <thead>\n",
       "    <tr style=\"text-align: right;\">\n",
       "      <th></th>\n",
       "      <th>obj_ID</th>\n",
       "      <th>alpha</th>\n",
       "      <th>delta</th>\n",
       "      <th>u</th>\n",
       "      <th>g</th>\n",
       "      <th>r</th>\n",
       "      <th>i</th>\n",
       "      <th>z</th>\n",
       "      <th>run_ID</th>\n",
       "      <th>rerun_ID</th>\n",
       "      <th>cam_col</th>\n",
       "      <th>field_ID</th>\n",
       "      <th>spec_obj_ID</th>\n",
       "      <th>class</th>\n",
       "      <th>redshift</th>\n",
       "      <th>plate</th>\n",
       "      <th>MJD</th>\n",
       "      <th>fiber_ID</th>\n",
       "    </tr>\n",
       "  </thead>\n",
       "  <tbody>\n",
       "    <tr>\n",
       "      <th>0</th>\n",
       "      <td>1.237661e+18</td>\n",
       "      <td>135.689107</td>\n",
       "      <td>32.494632</td>\n",
       "      <td>23.87882</td>\n",
       "      <td>22.27530</td>\n",
       "      <td>20.39501</td>\n",
       "      <td>19.16573</td>\n",
       "      <td>18.79371</td>\n",
       "      <td>3606</td>\n",
       "      <td>301</td>\n",
       "      <td>2</td>\n",
       "      <td>79</td>\n",
       "      <td>6.543777e+18</td>\n",
       "      <td>GALAXY</td>\n",
       "      <td>0.634794</td>\n",
       "      <td>5812</td>\n",
       "      <td>56354</td>\n",
       "      <td>171</td>\n",
       "    </tr>\n",
       "    <tr>\n",
       "      <th>1</th>\n",
       "      <td>1.237665e+18</td>\n",
       "      <td>144.826101</td>\n",
       "      <td>31.274185</td>\n",
       "      <td>24.77759</td>\n",
       "      <td>22.83188</td>\n",
       "      <td>22.58444</td>\n",
       "      <td>21.16812</td>\n",
       "      <td>21.61427</td>\n",
       "      <td>4518</td>\n",
       "      <td>301</td>\n",
       "      <td>5</td>\n",
       "      <td>119</td>\n",
       "      <td>1.176014e+19</td>\n",
       "      <td>GALAXY</td>\n",
       "      <td>0.779136</td>\n",
       "      <td>10445</td>\n",
       "      <td>58158</td>\n",
       "      <td>427</td>\n",
       "    </tr>\n",
       "    <tr>\n",
       "      <th>2</th>\n",
       "      <td>1.237661e+18</td>\n",
       "      <td>142.188790</td>\n",
       "      <td>35.582444</td>\n",
       "      <td>25.26307</td>\n",
       "      <td>22.66389</td>\n",
       "      <td>20.60976</td>\n",
       "      <td>19.34857</td>\n",
       "      <td>18.94827</td>\n",
       "      <td>3606</td>\n",
       "      <td>301</td>\n",
       "      <td>2</td>\n",
       "      <td>120</td>\n",
       "      <td>5.152200e+18</td>\n",
       "      <td>GALAXY</td>\n",
       "      <td>0.644195</td>\n",
       "      <td>4576</td>\n",
       "      <td>55592</td>\n",
       "      <td>299</td>\n",
       "    </tr>\n",
       "    <tr>\n",
       "      <th>3</th>\n",
       "      <td>1.237663e+18</td>\n",
       "      <td>338.741038</td>\n",
       "      <td>-0.402828</td>\n",
       "      <td>22.13682</td>\n",
       "      <td>23.77656</td>\n",
       "      <td>21.61162</td>\n",
       "      <td>20.50454</td>\n",
       "      <td>19.25010</td>\n",
       "      <td>4192</td>\n",
       "      <td>301</td>\n",
       "      <td>3</td>\n",
       "      <td>214</td>\n",
       "      <td>1.030107e+19</td>\n",
       "      <td>GALAXY</td>\n",
       "      <td>0.932346</td>\n",
       "      <td>9149</td>\n",
       "      <td>58039</td>\n",
       "      <td>775</td>\n",
       "    </tr>\n",
       "    <tr>\n",
       "      <th>4</th>\n",
       "      <td>1.237680e+18</td>\n",
       "      <td>345.282593</td>\n",
       "      <td>21.183866</td>\n",
       "      <td>19.43718</td>\n",
       "      <td>17.58028</td>\n",
       "      <td>16.49747</td>\n",
       "      <td>15.97711</td>\n",
       "      <td>15.54461</td>\n",
       "      <td>8102</td>\n",
       "      <td>301</td>\n",
       "      <td>3</td>\n",
       "      <td>137</td>\n",
       "      <td>6.891865e+18</td>\n",
       "      <td>GALAXY</td>\n",
       "      <td>0.116123</td>\n",
       "      <td>6121</td>\n",
       "      <td>56187</td>\n",
       "      <td>842</td>\n",
       "    </tr>\n",
       "  </tbody>\n",
       "</table>\n",
       "</div>"
      ],
      "text/plain": [
       "         obj_ID       alpha      delta         u         g         r  \\\n",
       "0  1.237661e+18  135.689107  32.494632  23.87882  22.27530  20.39501   \n",
       "1  1.237665e+18  144.826101  31.274185  24.77759  22.83188  22.58444   \n",
       "2  1.237661e+18  142.188790  35.582444  25.26307  22.66389  20.60976   \n",
       "3  1.237663e+18  338.741038  -0.402828  22.13682  23.77656  21.61162   \n",
       "4  1.237680e+18  345.282593  21.183866  19.43718  17.58028  16.49747   \n",
       "\n",
       "          i         z  run_ID  rerun_ID  cam_col  field_ID   spec_obj_ID  \\\n",
       "0  19.16573  18.79371    3606       301        2        79  6.543777e+18   \n",
       "1  21.16812  21.61427    4518       301        5       119  1.176014e+19   \n",
       "2  19.34857  18.94827    3606       301        2       120  5.152200e+18   \n",
       "3  20.50454  19.25010    4192       301        3       214  1.030107e+19   \n",
       "4  15.97711  15.54461    8102       301        3       137  6.891865e+18   \n",
       "\n",
       "    class  redshift  plate    MJD  fiber_ID  \n",
       "0  GALAXY  0.634794   5812  56354       171  \n",
       "1  GALAXY  0.779136  10445  58158       427  \n",
       "2  GALAXY  0.644195   4576  55592       299  \n",
       "3  GALAXY  0.932346   9149  58039       775  \n",
       "4  GALAXY  0.116123   6121  56187       842  "
      ]
     },
     "execution_count": 9,
     "metadata": {},
     "output_type": "execute_result"
    }
   ],
   "source": [
    "data = pd.read_csv(\"data/star_classification.csv\")\n",
    "data.head()"
   ]
  },
  {
   "cell_type": "code",
   "execution_count": 10,
   "id": "e2dc6939-4413-489b-b252-2db77060b672",
   "metadata": {},
   "outputs": [
    {
     "data": {
      "text/html": [
       "<div>\n",
       "<style scoped>\n",
       "    .dataframe tbody tr th:only-of-type {\n",
       "        vertical-align: middle;\n",
       "    }\n",
       "\n",
       "    .dataframe tbody tr th {\n",
       "        vertical-align: top;\n",
       "    }\n",
       "\n",
       "    .dataframe thead th {\n",
       "        text-align: right;\n",
       "    }\n",
       "</style>\n",
       "<table border=\"1\" class=\"dataframe\">\n",
       "  <thead>\n",
       "    <tr style=\"text-align: right;\">\n",
       "      <th></th>\n",
       "      <th>obj_ID</th>\n",
       "      <th>alpha</th>\n",
       "      <th>delta</th>\n",
       "      <th>u</th>\n",
       "      <th>g</th>\n",
       "      <th>r</th>\n",
       "      <th>i</th>\n",
       "      <th>z</th>\n",
       "      <th>run_ID</th>\n",
       "      <th>rerun_ID</th>\n",
       "      <th>cam_col</th>\n",
       "      <th>field_ID</th>\n",
       "      <th>spec_obj_ID</th>\n",
       "      <th>redshift</th>\n",
       "      <th>plate</th>\n",
       "      <th>MJD</th>\n",
       "      <th>fiber_ID</th>\n",
       "    </tr>\n",
       "  </thead>\n",
       "  <tbody>\n",
       "    <tr>\n",
       "      <th>count</th>\n",
       "      <td>1.000000e+05</td>\n",
       "      <td>100000.000000</td>\n",
       "      <td>100000.000000</td>\n",
       "      <td>100000.000000</td>\n",
       "      <td>100000.000000</td>\n",
       "      <td>100000.000000</td>\n",
       "      <td>100000.000000</td>\n",
       "      <td>100000.000000</td>\n",
       "      <td>100000.000000</td>\n",
       "      <td>100000.0</td>\n",
       "      <td>100000.000000</td>\n",
       "      <td>100000.000000</td>\n",
       "      <td>1.000000e+05</td>\n",
       "      <td>100000.000000</td>\n",
       "      <td>100000.000000</td>\n",
       "      <td>100000.000000</td>\n",
       "      <td>100000.000000</td>\n",
       "    </tr>\n",
       "    <tr>\n",
       "      <th>mean</th>\n",
       "      <td>1.237665e+18</td>\n",
       "      <td>177.629117</td>\n",
       "      <td>24.135305</td>\n",
       "      <td>21.980468</td>\n",
       "      <td>20.531387</td>\n",
       "      <td>19.645762</td>\n",
       "      <td>19.084854</td>\n",
       "      <td>18.668810</td>\n",
       "      <td>4481.366060</td>\n",
       "      <td>301.0</td>\n",
       "      <td>3.511610</td>\n",
       "      <td>186.130520</td>\n",
       "      <td>5.783882e+18</td>\n",
       "      <td>0.576661</td>\n",
       "      <td>5137.009660</td>\n",
       "      <td>55588.647500</td>\n",
       "      <td>449.312740</td>\n",
       "    </tr>\n",
       "    <tr>\n",
       "      <th>std</th>\n",
       "      <td>8.438560e+12</td>\n",
       "      <td>96.502241</td>\n",
       "      <td>19.644665</td>\n",
       "      <td>31.769291</td>\n",
       "      <td>31.750292</td>\n",
       "      <td>1.854760</td>\n",
       "      <td>1.757895</td>\n",
       "      <td>31.728152</td>\n",
       "      <td>1964.764593</td>\n",
       "      <td>0.0</td>\n",
       "      <td>1.586912</td>\n",
       "      <td>149.011073</td>\n",
       "      <td>3.324016e+18</td>\n",
       "      <td>0.730707</td>\n",
       "      <td>2952.303351</td>\n",
       "      <td>1808.484233</td>\n",
       "      <td>272.498404</td>\n",
       "    </tr>\n",
       "    <tr>\n",
       "      <th>min</th>\n",
       "      <td>1.237646e+18</td>\n",
       "      <td>0.005528</td>\n",
       "      <td>-18.785328</td>\n",
       "      <td>-9999.000000</td>\n",
       "      <td>-9999.000000</td>\n",
       "      <td>9.822070</td>\n",
       "      <td>9.469903</td>\n",
       "      <td>-9999.000000</td>\n",
       "      <td>109.000000</td>\n",
       "      <td>301.0</td>\n",
       "      <td>1.000000</td>\n",
       "      <td>11.000000</td>\n",
       "      <td>2.995191e+17</td>\n",
       "      <td>-0.009971</td>\n",
       "      <td>266.000000</td>\n",
       "      <td>51608.000000</td>\n",
       "      <td>1.000000</td>\n",
       "    </tr>\n",
       "    <tr>\n",
       "      <th>25%</th>\n",
       "      <td>1.237659e+18</td>\n",
       "      <td>127.518222</td>\n",
       "      <td>5.146771</td>\n",
       "      <td>20.352353</td>\n",
       "      <td>18.965230</td>\n",
       "      <td>18.135828</td>\n",
       "      <td>17.732285</td>\n",
       "      <td>17.460677</td>\n",
       "      <td>3187.000000</td>\n",
       "      <td>301.0</td>\n",
       "      <td>2.000000</td>\n",
       "      <td>82.000000</td>\n",
       "      <td>2.844138e+18</td>\n",
       "      <td>0.054517</td>\n",
       "      <td>2526.000000</td>\n",
       "      <td>54234.000000</td>\n",
       "      <td>221.000000</td>\n",
       "    </tr>\n",
       "    <tr>\n",
       "      <th>50%</th>\n",
       "      <td>1.237663e+18</td>\n",
       "      <td>180.900700</td>\n",
       "      <td>23.645922</td>\n",
       "      <td>22.179135</td>\n",
       "      <td>21.099835</td>\n",
       "      <td>20.125290</td>\n",
       "      <td>19.405145</td>\n",
       "      <td>19.004595</td>\n",
       "      <td>4188.000000</td>\n",
       "      <td>301.0</td>\n",
       "      <td>4.000000</td>\n",
       "      <td>146.000000</td>\n",
       "      <td>5.614883e+18</td>\n",
       "      <td>0.424173</td>\n",
       "      <td>4987.000000</td>\n",
       "      <td>55868.500000</td>\n",
       "      <td>433.000000</td>\n",
       "    </tr>\n",
       "    <tr>\n",
       "      <th>75%</th>\n",
       "      <td>1.237668e+18</td>\n",
       "      <td>233.895005</td>\n",
       "      <td>39.901550</td>\n",
       "      <td>23.687440</td>\n",
       "      <td>22.123767</td>\n",
       "      <td>21.044785</td>\n",
       "      <td>20.396495</td>\n",
       "      <td>19.921120</td>\n",
       "      <td>5326.000000</td>\n",
       "      <td>301.0</td>\n",
       "      <td>5.000000</td>\n",
       "      <td>241.000000</td>\n",
       "      <td>8.332144e+18</td>\n",
       "      <td>0.704154</td>\n",
       "      <td>7400.250000</td>\n",
       "      <td>56777.000000</td>\n",
       "      <td>645.000000</td>\n",
       "    </tr>\n",
       "    <tr>\n",
       "      <th>max</th>\n",
       "      <td>1.237681e+18</td>\n",
       "      <td>359.999810</td>\n",
       "      <td>83.000519</td>\n",
       "      <td>32.781390</td>\n",
       "      <td>31.602240</td>\n",
       "      <td>29.571860</td>\n",
       "      <td>32.141470</td>\n",
       "      <td>29.383740</td>\n",
       "      <td>8162.000000</td>\n",
       "      <td>301.0</td>\n",
       "      <td>6.000000</td>\n",
       "      <td>989.000000</td>\n",
       "      <td>1.412694e+19</td>\n",
       "      <td>7.011245</td>\n",
       "      <td>12547.000000</td>\n",
       "      <td>58932.000000</td>\n",
       "      <td>1000.000000</td>\n",
       "    </tr>\n",
       "  </tbody>\n",
       "</table>\n",
       "</div>"
      ],
      "text/plain": [
       "             obj_ID          alpha          delta              u  \\\n",
       "count  1.000000e+05  100000.000000  100000.000000  100000.000000   \n",
       "mean   1.237665e+18     177.629117      24.135305      21.980468   \n",
       "std    8.438560e+12      96.502241      19.644665      31.769291   \n",
       "min    1.237646e+18       0.005528     -18.785328   -9999.000000   \n",
       "25%    1.237659e+18     127.518222       5.146771      20.352353   \n",
       "50%    1.237663e+18     180.900700      23.645922      22.179135   \n",
       "75%    1.237668e+18     233.895005      39.901550      23.687440   \n",
       "max    1.237681e+18     359.999810      83.000519      32.781390   \n",
       "\n",
       "                   g              r              i              z  \\\n",
       "count  100000.000000  100000.000000  100000.000000  100000.000000   \n",
       "mean       20.531387      19.645762      19.084854      18.668810   \n",
       "std        31.750292       1.854760       1.757895      31.728152   \n",
       "min     -9999.000000       9.822070       9.469903   -9999.000000   \n",
       "25%        18.965230      18.135828      17.732285      17.460677   \n",
       "50%        21.099835      20.125290      19.405145      19.004595   \n",
       "75%        22.123767      21.044785      20.396495      19.921120   \n",
       "max        31.602240      29.571860      32.141470      29.383740   \n",
       "\n",
       "              run_ID  rerun_ID        cam_col       field_ID   spec_obj_ID  \\\n",
       "count  100000.000000  100000.0  100000.000000  100000.000000  1.000000e+05   \n",
       "mean     4481.366060     301.0       3.511610     186.130520  5.783882e+18   \n",
       "std      1964.764593       0.0       1.586912     149.011073  3.324016e+18   \n",
       "min       109.000000     301.0       1.000000      11.000000  2.995191e+17   \n",
       "25%      3187.000000     301.0       2.000000      82.000000  2.844138e+18   \n",
       "50%      4188.000000     301.0       4.000000     146.000000  5.614883e+18   \n",
       "75%      5326.000000     301.0       5.000000     241.000000  8.332144e+18   \n",
       "max      8162.000000     301.0       6.000000     989.000000  1.412694e+19   \n",
       "\n",
       "            redshift          plate            MJD       fiber_ID  \n",
       "count  100000.000000  100000.000000  100000.000000  100000.000000  \n",
       "mean        0.576661    5137.009660   55588.647500     449.312740  \n",
       "std         0.730707    2952.303351    1808.484233     272.498404  \n",
       "min        -0.009971     266.000000   51608.000000       1.000000  \n",
       "25%         0.054517    2526.000000   54234.000000     221.000000  \n",
       "50%         0.424173    4987.000000   55868.500000     433.000000  \n",
       "75%         0.704154    7400.250000   56777.000000     645.000000  \n",
       "max         7.011245   12547.000000   58932.000000    1000.000000  "
      ]
     },
     "execution_count": 10,
     "metadata": {},
     "output_type": "execute_result"
    }
   ],
   "source": [
    "data.describe()"
   ]
  },
  {
   "cell_type": "code",
   "execution_count": 11,
   "id": "e3ebd064-5123-4ae0-ac3e-28e8ad3dbe44",
   "metadata": {},
   "outputs": [
    {
     "data": {
      "text/plain": [
       "Index(['obj_ID', 'alpha', 'delta', 'u', 'g', 'r', 'i', 'z', 'run_ID',\n",
       "       'rerun_ID', 'cam_col', 'field_ID', 'spec_obj_ID', 'class', 'redshift',\n",
       "       'plate', 'MJD', 'fiber_ID'],\n",
       "      dtype='object')"
      ]
     },
     "execution_count": 11,
     "metadata": {},
     "output_type": "execute_result"
    }
   ],
   "source": [
    "data.columns"
   ]
  },
  {
   "cell_type": "code",
   "execution_count": 14,
   "id": "5330ed99-aeda-49b5-92f5-25db8e8a8596",
   "metadata": {},
   "outputs": [],
   "source": [
    "# 找到異常值index\n",
    "dropped_item_index = data[data['u'] == -9999].index\n",
    "# 刪除異常值\n",
    "trans_data = data.drop(dropped_item_index)"
   ]
  },
  {
   "cell_type": "code",
   "execution_count": 65,
   "id": "4c9a69c0-3598-4069-8cb1-062a614cd909",
   "metadata": {},
   "outputs": [],
   "source": [
    "corr_field = ['u', 'g', 'r', 'i', 'z', 'redshift']"
   ]
  },
  {
   "cell_type": "code",
   "execution_count": 69,
   "id": "7e841a10-28c0-4bd8-8855-96e66aebabdf",
   "metadata": {},
   "outputs": [
    {
     "data": {
      "image/png": "[encoded data removed]",
      "text/plain": [
       "<Figure size 800x600 with 2 Axes>"
      ]
     },
     "metadata": {},
     "output_type": "display_data"
    }
   ],
   "source": [
    "# 驗證 紅移redshift 對 不同波段 的影響程度\n",
    "# 偏移量隨光波段 'u', 'g', 'r', 'i', 'z' 變大，偏移量最小(本身數值低）'u'，偏移量最大(本身數值高）'z'\n",
    "corr = trans_data[corr_field].corr(numeric_only=True)\n",
    "plt.figure(figsize=(8, 6))\n",
    "sns.heatmap(corr, cmap='coolwarm', annot=True, vmin=-1, vmax=1)\n",
    "# 存檔\n",
    "plt.savefig('output/img/redshift_heatmap.jpg', dpi=100, bbox_inches='tight')"
   ]
  },
  {
   "cell_type": "code",
   "execution_count": 18,
   "id": "6a496613-1c01-4201-ac94-cecee0121b7d",
   "metadata": {},
   "outputs": [],
   "source": [
    "# 切割數據集，train, test\n",
    "# 只是爲了測試欄位轉換有效性，故不區分 validation\n",
    "from sklearn.model_selection import train_test_split\n",
    "# RandomForestClassifier\n",
    "from sklearn.ensemble import RandomForestClassifier\n",
    "# accuracy_score()\n",
    "from sklearn.metrics import accuracy_score\n",
    "\n",
    "# 使用初始欄位，ori_\n",
    "# 之前有大概跑一下，配合最後需要展示的界面，只選擇和顔色有關的 u, g, r, i, z\n",
    "ori_input_field = ['u', 'g', 'r', 'i', 'z']\n",
    "output_field = 'class'\n",
    "# 原始欄位\n",
    "ori_train, ori_test = train_test_split(trans_data, test_size=0.2, random_state=0)\n",
    "ori_train_X, ori_train_y = ori_train[ori_input_field], ori_train[output_field]\n",
    "ori_test_X, ori_test_y = ori_test[ori_input_field], ori_test[output_field]\n",
    "# model.fit()\n",
    "ori_forest_classifier = RandomForestClassifier().fit(ori_train_X, ori_train_y)"
   ]
  },
  {
   "cell_type": "code",
   "execution_count": null,
   "id": "4e28d205-09d2-4c1c-9728-25b0d2181660",
   "metadata": {},
   "outputs": [],
   "source": [
    "ori_predict = ori_forest_classifier.predict(ori_test_X)\n",
    "accuracy_score(ori_test_y, ori_predict) # 0.87515"
   ]
  },
  {
   "cell_type": "code",
   "execution_count": 20,
   "id": "fe7daa1b-f931-4154-9a54-2e06748ade23",
   "metadata": {},
   "outputs": [],
   "source": [
    "# 新增 observe_type 欄位\n",
    "observe_type = 'observe_type_eyes'\n",
    "\n",
    "obs_data = trans_data.copy()\n",
    "obs_data[observe_type] = obs_data['class'].apply(lambda c: 1 if (c == 'STAR') else 0)\n",
    "\n",
    "obs_input_field = ['u', 'g', 'r', 'i', 'z', observe_type]\n",
    "\n",
    "obs_train, obs_test = train_test_split(obs_data, test_size=0.2, random_state=0)\n",
    "obs_train_X, obs_train_y = obs_train[obs_input_field], obs_train[output_field]\n",
    "obs_test_X, obs_test_y = obs_test[obs_input_field], obs_test[output_field]\n",
    "\n",
    "obs_forest_classifier = RandomForestClassifier().fit(obs_train_X, obs_train_y)"
   ]
  },
  {
   "cell_type": "code",
   "execution_count": 21,
   "id": "655e9576-cd5d-43b9-9d56-337c2f35c2bf",
   "metadata": {},
   "outputs": [
    {
     "data": {
      "text/plain": [
       "0.95665"
      ]
     },
     "execution_count": 21,
     "metadata": {},
     "output_type": "execute_result"
    }
   ],
   "source": [
    "obs_predict = obs_forest_classifier.predict(obs_test_X)\n",
    "accuracy_score(obs_test_y, obs_predict) # 0.95665\n",
    "# 因爲 c=='STAR' 已經泄露一部分答案"
   ]
  },
  {
   "cell_type": "code",
   "execution_count": 22,
   "id": "f1e3e8df-6ea1-471e-893d-e9175da13c78",
   "metadata": {},
   "outputs": [],
   "source": [
    "# 比較 ['alpha', 'delta', 'u', 'g', 'r', 'i', 'z', 'redshift'] 的影響\n",
    "ori2_input_field = ['alpha', 'delta', 'u', 'g', 'r', 'i', 'z', 'redshift']\n",
    "# 對新資料最切分 train, test\n",
    "ori2_train, ori2_test = train_test_split(trans_data, test_size=0.2, random_state=0)\n",
    "ori2_train_X, ori2_train_y = ori2_train[ori2_input_field], ori2_train[output_field]\n",
    "ori2_test_X, ori2_test_y = ori2_test[ori2_input_field], ori2_test[output_field]\n",
    "\n",
    "ori2_forest_classifier = RandomForestClassifier().fit(ori2_train_X, ori2_train_y)"
   ]
  },
  {
   "cell_type": "code",
   "execution_count": 23,
   "id": "c90a106b-7005-4c14-adee-e201eba8422f",
   "metadata": {},
   "outputs": [
    {
     "data": {
      "text/plain": [
       "0.9782"
      ]
     },
     "execution_count": 23,
     "metadata": {},
     "output_type": "execute_result"
    }
   ],
   "source": [
    "ori2_predict = ori2_forest_classifier.predict(ori2_test_X)\n",
    "accuracy_score(ori2_test_y, ori2_predict) # 0.9782\n",
    "# 把欄位都丟進去準確率很高"
   ]
  },
  {
   "cell_type": "code",
   "execution_count": 24,
   "id": "4b6ec14c-c2f4-42ec-8dd4-e3224fd83cac",
   "metadata": {},
   "outputs": [],
   "source": [
    "# 把 'u', 'g', 'r', 'i', 'z' 轉換成 R, G, B 的 def flux_to_rgb()\n",
    "def flux_to_rgb(u, g, r, i, z):\n",
    "  total = u + g + r + i + z + 1e-6  # 防止除以 0\n",
    "  r_val = (r + i) / total\n",
    "  g_val = g / total\n",
    "  b_val = (u + g) / total\n",
    "  return (r_val, g_val, b_val)"
   ]
  },
  {
   "cell_type": "code",
   "execution_count": 26,
   "id": "d4d23234-8cac-447b-95e2-0537325bdaff",
   "metadata": {},
   "outputs": [
    {
     "data": {
      "text/html": [
       "<div>\n",
       "<style scoped>\n",
       "    .dataframe tbody tr th:only-of-type {\n",
       "        vertical-align: middle;\n",
       "    }\n",
       "\n",
       "    .dataframe tbody tr th {\n",
       "        vertical-align: top;\n",
       "    }\n",
       "\n",
       "    .dataframe thead th {\n",
       "        text-align: right;\n",
       "    }\n",
       "</style>\n",
       "<table border=\"1\" class=\"dataframe\">\n",
       "  <thead>\n",
       "    <tr style=\"text-align: right;\">\n",
       "      <th></th>\n",
       "      <th>R</th>\n",
       "      <th>G</th>\n",
       "      <th>B</th>\n",
       "    </tr>\n",
       "  </thead>\n",
       "  <tbody>\n",
       "    <tr>\n",
       "      <th>0</th>\n",
       "      <td>0.378541</td>\n",
       "      <td>0.213143</td>\n",
       "      <td>0.441630</td>\n",
       "    </tr>\n",
       "    <tr>\n",
       "      <th>1</th>\n",
       "      <td>0.387272</td>\n",
       "      <td>0.202094</td>\n",
       "      <td>0.421411</td>\n",
       "    </tr>\n",
       "    <tr>\n",
       "      <th>2</th>\n",
       "      <td>0.374024</td>\n",
       "      <td>0.212142</td>\n",
       "      <td>0.448613</td>\n",
       "    </tr>\n",
       "    <tr>\n",
       "      <th>3</th>\n",
       "      <td>0.392583</td>\n",
       "      <td>0.221632</td>\n",
       "      <td>0.427979</td>\n",
       "    </tr>\n",
       "    <tr>\n",
       "      <th>4</th>\n",
       "      <td>0.381889</td>\n",
       "      <td>0.206738</td>\n",
       "      <td>0.435312</td>\n",
       "    </tr>\n",
       "  </tbody>\n",
       "</table>\n",
       "</div>"
      ],
      "text/plain": [
       "          R         G         B\n",
       "0  0.378541  0.213143  0.441630\n",
       "1  0.387272  0.202094  0.421411\n",
       "2  0.374024  0.212142  0.448613\n",
       "3  0.392583  0.221632  0.427979\n",
       "4  0.381889  0.206738  0.435312"
      ]
     },
     "execution_count": 26,
     "metadata": {},
     "output_type": "execute_result"
    }
   ],
   "source": [
    "# 這裏的RGB是數值，用戶沒辦法輸入，還是需要找到規範化的表示方法\n",
    "color_data = trans_data.copy()\n",
    "color_columns = ['R', 'G', 'B']\n",
    "color_data[color_columns] = color_data.apply(lambda row: pd.Series(flux_to_rgb(row['u'], row['g'], row['r'], row['i'], row['z'])), axis=1)\n",
    "color_data[color_columns].head()"
   ]
  },
  {
   "cell_type": "code",
   "execution_count": 34,
   "id": "1b429362-9df1-4c4f-be4f-a974e6612309",
   "metadata": {},
   "outputs": [],
   "source": [
    "# 測試轉換以後的準確率\n",
    "# color_input_field = ['R', 'G', 'B'] # 0.8433\n",
    "# color_input_field = ['R', 'G', 'B', 'redshift'] # 0.97465\n",
    "# color_input_field = ['alpha', 'delta', 'R', 'G', 'B'] # 0.85865\n",
    "color_input_field = ['alpha', 'delta', 'R', 'G', 'B', 'redshift'] # 0.9758\n",
    "# 對新資料最切分 train, test\n",
    "color_train, color_test = train_test_split(color_data, test_size=0.2, random_state=0)\n",
    "color_train_X, color_train_y = color_train[color_input_field], color_train[output_field]\n",
    "color_test_X, color_test_y = color_test[color_input_field], color_test[output_field]\n",
    "\n",
    "color_forest_classifier = RandomForestClassifier().fit(color_train_X, color_train_y)"
   ]
  },
  {
   "cell_type": "code",
   "execution_count": 35,
   "id": "267a16cb-b8af-4232-955d-7ce5f2b730c8",
   "metadata": {},
   "outputs": [
    {
     "data": {
      "text/plain": [
       "0.9758"
      ]
     },
     "execution_count": 35,
     "metadata": {},
     "output_type": "execute_result"
    }
   ],
   "source": [
    "# 準確率可以\n",
    "color_predict = color_forest_classifier.predict(color_test_X)\n",
    "accuracy_score(color_test_y, color_predict)"
   ]
  },
  {
   "cell_type": "code",
   "execution_count": 129,
   "id": "e66b9c2d-7d8d-482b-bb4f-1c39a87b9e6f",
   "metadata": {},
   "outputs": [
    {
     "data": {
      "text/plain": [
       "0.94555"
      ]
     },
     "execution_count": 129,
     "metadata": {},
     "output_type": "execute_result"
    }
   ],
   "source": [
    "# 這裏的RGB是數值，用戶沒辦法輸入，還是需要找到規範化的表示方法\n",
    "# R, G, B, observe_type\n",
    "# eye_column = 'is_eye'\n",
    "\n",
    "# color_eye_data = data4.copy()\n",
    "# color_eye_data[eye_column] = color_eye_data['class'].apply(lambda c: 1 if (c == 'STAR') else 0)\n",
    "# color_eye_input_field = ['R', 'G', 'B', eye_column]\n",
    "# # 對新資料最切分 train, test\n",
    "# color_eye_train, color_eye_test = train_test_split(color_eye_data, test_size=0.2, random_state=0)\n",
    "# color_eye_train_X, color_eye_train_y = color_eye_train[color_eye_input_field], color_eye_train[output_field]\n",
    "# color_eye_test_X, color_eye_test_y = color_eye_test[color_eye_input_field], color_eye_test[output_field]\n",
    "\n",
    "# color_eye_forest_classifier = RandomForestClassifier().fit(color_eye_train_X, color_eye_train_y)\n",
    "# color_eye_predict = color_eye_forest_classifier.predict(color_eye_test_X)\n",
    "# accuracy_score(color_eye_test_y, color_eye_predict) # 0.9511\n",
    "\n",
    "# ['alpha', 'delta', 'R', 'G', 'B', eye_column] - 0.9511\n",
    "# ['R', 'G', 'B', eye_column] - 0.94555"
   ]
  },
  {
   "cell_type": "code",
   "execution_count": 36,
   "id": "d01c3faf-d7b4-453d-93b8-389e3468afdf",
   "metadata": {},
   "outputs": [
    {
     "data": {
      "text/plain": [
       "0    u\n",
       "1    u\n",
       "2    u\n",
       "3    g\n",
       "4    u\n",
       "Name: max_band, dtype: object"
      ]
     },
     "execution_count": 36,
     "metadata": {},
     "output_type": "execute_result"
    }
   ],
   "source": [
    "# max_波光段 的測試\n",
    "max_band_data = trans_data.copy()\n",
    "# 挑出 'u', 'g', 'r', 'i', 'z' 中最强的波光段\n",
    "max_band_data['max_band'] = max_band_data[['u', 'g', 'r', 'i', 'z']].idxmax(axis=1)\n",
    "max_band_data['max_band'].head()\n",
    "# output:\n",
    "# 0    u\n",
    "# 1    u\n",
    "# 2    u\n",
    "# 3    g\n",
    "# 4    u\n",
    "# Name: max_band, dtype: object"
   ]
  },
  {
   "cell_type": "code",
   "execution_count": 44,
   "id": "b95ef355-f334-4ff3-98aa-981d8dc0476a",
   "metadata": {},
   "outputs": [
    {
     "name": "stdout",
     "output_type": "stream",
     "text": [
      "   max_band_is_g  max_band_is_i  max_band_is_r  max_band_is_u  max_band_is_z\n",
      "0              0              0              0              1              0\n",
      "1              0              0              0              1              0\n",
      "2              0              0              0              1              0\n",
      "3              1              0              0              0              0\n",
      "4              0              0              0              1              0\n"
     ]
    }
   ],
   "source": [
    "# 變成 True, False\n",
    "max_band_dummies = pd.get_dummies(max_band_data['max_band'], prefix=\"max_band_is\")\n",
    "\n",
    "# 轉成 0, 1\n",
    "dummies_columns = max_band_dummies.columns\n",
    "for c in dummies_columns:\n",
    "    max_band_dummies[c] = max_band_dummies[c].apply(lambda blean: 1 if blean == True else 0)\n",
    "max_band_dummies.head()\n",
    "#    max_band_is_g  max_band_is_i  max_band_is_r  max_band_is_u  max_band_is_z\n",
    "# 0              0              0              0              1              0\n",
    "# 1              0              0              0              1              0\n",
    "# 2              0              0              0              1              0\n",
    "# 3              1              0              0              0              0\n",
    "# 4              0              0              0              1              0"
   ]
  },
  {
   "cell_type": "code",
   "execution_count": 45,
   "id": "0c90bdf8-e13f-4f54-87b2-1abb0b510d5c",
   "metadata": {},
   "outputs": [],
   "source": [
    "# contcat(origin, max_band)\n",
    "# 結合origin，對應 'class' 欄位\n",
    "# 測試欄位為 max_band_is_g  max_band_is_i  max_band_is_r  max_band_is_u  max_band_is_z\n",
    "max_band_data2 = pd.concat([max_band_data, max_band_dummies], axis=1)\n",
    "\n",
    "max_band_train, max_band_test = train_test_split(max_band_data2, test_size=0.2, random_state=0)\n",
    "max_band_train_X, max_band_train_y = max_band_train[dummies_columns], max_band_train[output_field]\n",
    "max_band_test_X, max_band_test_y = max_band_test[dummies_columns], max_band_test[output_field]\n",
    "\n",
    "max_band_forest_classifier = RandomForestClassifier().fit(max_band_train_X, max_band_train_y)"
   ]
  },
  {
   "cell_type": "code",
   "execution_count": 47,
   "id": "90cd3c27-c6b5-4078-9721-da830c2c541a",
   "metadata": {},
   "outputs": [
    {
     "data": {
      "text/plain": [
       "0.5977"
      ]
     },
     "execution_count": 47,
     "metadata": {},
     "output_type": "execute_result"
    }
   ],
   "source": [
    "# max_波光段效果不如前面的好，而且也沒辦法轉換波光段，可以捨棄\n",
    "max_band_predict = max_band_forest_classifier.predict(max_band_test_X)\n",
    "accuracy_score(max_band_test_y, max_band_predict) # 0.5977"
   ]
  },
  {
   "cell_type": "code",
   "execution_count": 50,
   "id": "5f141fbb-56e0-407e-853b-db01aef69f6f",
   "metadata": {},
   "outputs": [],
   "source": [
    "# 使用前面的 color_data，結合 One Hot Encoding\n",
    "# 找出最高的 RGB\n",
    "max_rgb_data = color_data.copy()\n",
    "max_rgb_data['max_rgb'] = max_rgb_data[['R', 'G', 'B']].idxmax(axis=1)\n",
    "max_rgb_dummies = pd.get_dummies(max_rgb_data['max_rgb'], prefix=\"max_rgb_is\")\n",
    "# 轉成 0, 1\n",
    "for c in max_rgb_dummies.columns:\n",
    "    max_rgb_dummies[c] = max_rgb_dummies[c].apply(lambda rgb: 1 if rgb==True else 0)\n",
    "max_rgb_data2 = pd.concat([max_rgb_data, max_rgb_dummies], axis=1)\n",
    "\n",
    "# max_rgb_input_field = max_rgb_dummies.columns.tolist()\n",
    "# max_rgb_input_field.append(eye_column)\n",
    "\n",
    "max_rgb_train, max_rgb_test = train_test_split(max_rgb_data, test_size=0.2, random_state=0)\n",
    "max_rgb_train_X, max_rgb_train_y = max_rgb_train[max_rgb_dummies], max_rgb_train[output_field]\n",
    "max_rgb_test_X, max_rgb_test_y = max_rgb_test[max_rgb_dummies], max_rgb_test[output_field]\n",
    "\n",
    "max_rgb_forest_classifier = RandomForestClassifier().fit(max_rgb_train_X, max_rgb_train_y)"
   ]
  },
  {
   "cell_type": "code",
   "execution_count": 52,
   "id": "26dbba9a-299d-418b-87f9-aa59d37778d3",
   "metadata": {},
   "outputs": [
    {
     "data": {
      "text/plain": [
       "0.5932"
      ]
     },
     "execution_count": 52,
     "metadata": {},
     "output_type": "execute_result"
    }
   ],
   "source": [
    "# 準確率還是很低，不過 RGB 符合視覺轉換的原理，感覺是缺少一些東西\n",
    "# 大概不是判斷 R G B 的最大值，是 R G B 的混色規則\n",
    "# 混色規則是 R G B 的比例，請GPT生成轉換用的code\n",
    "max_rgb_predict = max_rgb_forest_classifier.predict(max_rgb_test_X)\n",
    "accuracy_score(max_rgb_test_y, max_rgb_predict) # 0.5932"
   ]
  },
  {
   "cell_type": "code",
   "execution_count": 53,
   "id": "068dca27-71fe-4176-abc6-2b7885d1617e",
   "metadata": {},
   "outputs": [],
   "source": [
    "import numpy as np\n",
    "\n",
    "# 把星等（Magnitude）轉換成相對光通量（Flux），轉換後數值越大代表越亮\n",
    "def mag_to_flux(mag):\n",
    "    return 10 ** (-0.4 * mag)\n",
    "    \n",
    "# 可調整threshold改變敏感值\n",
    "def normalize_binary(r, g, b, threshold=0.5):\n",
    "    \"\"\"\n",
    "    將 R/G/B 二值化為 0 或 1\n",
    "    threshold 表示佔最大值多少才算「亮」\n",
    "    \"\"\"\n",
    "    max_val = max(r, g, b)\n",
    "    if max_val == 0:\n",
    "        return (0, 0, 0)\n",
    "    return (\n",
    "        int(r >= threshold * max_val),\n",
    "        int(g >= threshold * max_val),\n",
    "        int(b >= threshold * max_val)\n",
    "    )\n",
    "\n",
    "def ugriz_to_rgb_binary(u=None, g=None, r=None, i=None, z=None, threshold=0.5):\n",
    "    flux_u = mag_to_flux(u) if u is not None else 0\n",
    "    flux_g = mag_to_flux(g) if g is not None else 0\n",
    "    flux_r = mag_to_flux(r) if r is not None else 0\n",
    "    flux_i = mag_to_flux(i) if i is not None else 0\n",
    "    flux_z = mag_to_flux(z) if z is not None else 0\n",
    "\n",
    "    red   = flux_i + 0.5 * flux_z\n",
    "    green = flux_r\n",
    "    blue  = flux_g + 0.3 * flux_u\n",
    "\n",
    "    r_bin, g_bin, b_bin = normalize_binary(red, green, blue, threshold)\n",
    "\n",
    "    return (r_bin, g_bin, b_bin)"
   ]
  },
  {
   "cell_type": "code",
   "execution_count": 54,
   "id": "777f067f-c3b8-4dc8-a8e3-f0eaeeefd904",
   "metadata": {},
   "outputs": [
    {
     "data": {
      "text/html": [
       "<div>\n",
       "<style scoped>\n",
       "    .dataframe tbody tr th:only-of-type {\n",
       "        vertical-align: middle;\n",
       "    }\n",
       "\n",
       "    .dataframe tbody tr th {\n",
       "        vertical-align: top;\n",
       "    }\n",
       "\n",
       "    .dataframe thead th {\n",
       "        text-align: right;\n",
       "    }\n",
       "</style>\n",
       "<table border=\"1\" class=\"dataframe\">\n",
       "  <thead>\n",
       "    <tr style=\"text-align: right;\">\n",
       "      <th></th>\n",
       "      <th>R</th>\n",
       "      <th>G</th>\n",
       "      <th>B</th>\n",
       "    </tr>\n",
       "  </thead>\n",
       "  <tbody>\n",
       "    <tr>\n",
       "      <th>0</th>\n",
       "      <td>1</td>\n",
       "      <td>0</td>\n",
       "      <td>0</td>\n",
       "    </tr>\n",
       "    <tr>\n",
       "      <th>1</th>\n",
       "      <td>1</td>\n",
       "      <td>0</td>\n",
       "      <td>0</td>\n",
       "    </tr>\n",
       "    <tr>\n",
       "      <th>2</th>\n",
       "      <td>1</td>\n",
       "      <td>0</td>\n",
       "      <td>0</td>\n",
       "    </tr>\n",
       "    <tr>\n",
       "      <th>3</th>\n",
       "      <td>1</td>\n",
       "      <td>0</td>\n",
       "      <td>0</td>\n",
       "    </tr>\n",
       "    <tr>\n",
       "      <th>4</th>\n",
       "      <td>1</td>\n",
       "      <td>0</td>\n",
       "      <td>0</td>\n",
       "    </tr>\n",
       "    <tr>\n",
       "      <th>...</th>\n",
       "      <td>...</td>\n",
       "      <td>...</td>\n",
       "      <td>...</td>\n",
       "    </tr>\n",
       "    <tr>\n",
       "      <th>99995</th>\n",
       "      <td>1</td>\n",
       "      <td>0</td>\n",
       "      <td>0</td>\n",
       "    </tr>\n",
       "    <tr>\n",
       "      <th>99996</th>\n",
       "      <td>1</td>\n",
       "      <td>0</td>\n",
       "      <td>0</td>\n",
       "    </tr>\n",
       "    <tr>\n",
       "      <th>99997</th>\n",
       "      <td>1</td>\n",
       "      <td>0</td>\n",
       "      <td>0</td>\n",
       "    </tr>\n",
       "    <tr>\n",
       "      <th>99998</th>\n",
       "      <td>1</td>\n",
       "      <td>0</td>\n",
       "      <td>0</td>\n",
       "    </tr>\n",
       "    <tr>\n",
       "      <th>99999</th>\n",
       "      <td>1</td>\n",
       "      <td>0</td>\n",
       "      <td>0</td>\n",
       "    </tr>\n",
       "  </tbody>\n",
       "</table>\n",
       "<p>99999 rows × 3 columns</p>\n",
       "</div>"
      ],
      "text/plain": [
       "       R  G  B\n",
       "0      1  0  0\n",
       "1      1  0  0\n",
       "2      1  0  0\n",
       "3      1  0  0\n",
       "4      1  0  0\n",
       "...   .. .. ..\n",
       "99995  1  0  0\n",
       "99996  1  0  0\n",
       "99997  1  0  0\n",
       "99998  1  0  0\n",
       "99999  1  0  0\n",
       "\n",
       "[99999 rows x 3 columns]"
      ]
     },
     "execution_count": 54,
     "metadata": {},
     "output_type": "execute_result"
    }
   ],
   "source": [
    "# 波段强度轉化爲 RGB强度，加入 threahold敏感度 表現 RGB强度 關係\n",
    "# 因爲要用新的公式轉換，從原始數據 trans_data.copy()\n",
    "rgb_flux_data = trans_data.copy()\n",
    "rgb_flux_data[['R', 'G', 'B']] = rgb_flux_data[['u', 'g', 'r', 'i', 'z']].apply(\n",
    "    lambda row: pd.Series(ugriz_to_rgb_binary(row['u'], row['g'], row['r'], row['i'], row['z'])), axis=1)\n",
    "rgb_flux_data[['R', 'G', 'B']].head()\n",
    "# output maybe:\n",
    "# \tR\tG\tB\n",
    "# 0\t1\t1\t0"
   ]
  },
  {
   "cell_type": "code",
   "execution_count": 57,
   "id": "1ac395fb-682f-4445-9ab2-939d203f0491",
   "metadata": {},
   "outputs": [],
   "source": [
    "# 測試 rgb_flux_data\n",
    "rgb_flux_input_field = ['R', 'G', 'B']\n",
    "\n",
    "rgb_flux_train, rgb_flux_test = train_test_split(rgb_flux_data, test_size=0.2, random_state=0)\n",
    "rgb_flux_train_X, rgb_flux_train_y = rgb_flux_train[rgb_flux_input_field], rgb_flux_train[output_field]\n",
    "rgb_flux_test_X, rgb_flux_test_y = rgb_flux_test[rgb_flux_input_field], rgb_flux_test[output_field]\n",
    "\n",
    "rgb_flux_forest_classifier = RandomForestClassifier().fit(rgb_flux_train_X, rgb_flux_train_y)"
   ]
  },
  {
   "cell_type": "code",
   "execution_count": 58,
   "id": "c9c42548-8090-4014-beeb-ceeb6389afc5",
   "metadata": {},
   "outputs": [
    {
     "data": {
      "text/plain": [
       "0.76845"
      ]
     },
     "execution_count": 58,
     "metadata": {},
     "output_type": "execute_result"
    }
   ],
   "source": [
    "# 比較單一强度準確率高了20%，混色規則比較單一强度的效果好很多\n",
    "# 結合產品界面可以加入'肉眼可見'，即 class=='STAR' 判斷，去做測試\n",
    "rgb_flux_predict = rgb_flux_forest_classifier.predict(rgb_flux_test_X)\n",
    "accuracy_score(rgb_flux_test_y, rgb_flux_predict) # 0.76845\n",
    "\n",
    "# 可以用，可以測試不同 threshold 敏感度下的準確率"
   ]
  },
  {
   "cell_type": "code",
   "execution_count": 60,
   "id": "e6f892e1-f1bd-4783-b849-7eea6994bcc1",
   "metadata": {},
   "outputs": [],
   "source": [
    "# 加入'肉眼可見'欄位\n",
    "rgb_flux_data['observe_type_eyes'] = rgb_flux_data['class'].apply(lambda star_class: 1 if star_class=='STAR' else 0)\n",
    "rgb_flux_input_field2 = ['R', 'G', 'B', 'observe_type_eyes']\n",
    "\n",
    "rgb_flux_train2, rgb_flux_test2 = train_test_split(rgb_flux_data, test_size=0.2, random_state=0)\n",
    "rgb_flux_train_X2, rgb_flux_train_y2 = rgb_flux_train2[rgb_flux_input_field2], rgb_flux_train2[output_field]\n",
    "rgb_flux_test_X2, rgb_flux_test_y2 = rgb_flux_test2[rgb_flux_input_field2], rgb_flux_test2[output_field]\n",
    "\n",
    "rgb_flux_forest_classifier2 = RandomForestClassifier().fit(rgb_flux_train_X2, rgb_flux_train_y2)"
   ]
  },
  {
   "cell_type": "code",
   "execution_count": 61,
   "id": "05f9e75d-e19e-4a45-9e53-b2217a420c81",
   "metadata": {},
   "outputs": [
    {
     "data": {
      "text/plain": [
       "0.92535"
      ]
     },
     "execution_count": 61,
     "metadata": {},
     "output_type": "execute_result"
    }
   ],
   "source": [
    "# 0.92535 的準確率是可以接受的\n",
    "rgb_flux_predict2 = rgb_flux_forest_classifier2.predict(rgb_flux_test_X2)\n",
    "accuracy_score(rgb_flux_test_y2, rgb_flux_predict2) # 0.92535"
   ]
  },
  {
   "cell_type": "code",
   "execution_count": 62,
   "id": "d8b02d7b-1ec4-4fdf-8f5c-1ffdd2e3cd9d",
   "metadata": {},
   "outputs": [],
   "source": [
    "# 測試並調整最後采用的欄位 ['R', 'G', 'B', 'observe_type_eyes'] 的 RGB的敏感度\n",
    "# 準備 final_data，加入'肉眼可見'欄位\n",
    "final_data = trans_data.copy()\n",
    "final_data['observe_type_eyes'] = final_data['class'].apply(lambda star_class: 1 if star_class=='STAR' else 0)\n",
    "final_input_field = ['R', 'G', 'B', 'observe_type_eyes']\n",
    "\n",
    "accuracy_scores = [] # accuracy_scores分數\n",
    "threasholds = [0.1*(i+1) for i in range(9)]\n",
    "for threshold in threasholds:\n",
    "    final_data[['R', 'G', 'B']] = final_data[['u', 'g', 'r', 'i', 'z']].apply(\n",
    "        lambda row: pd.Series(ugriz_to_rgb_binary(row['u'], row['g'], row['r'], row['i'], row['z'], threshold=threshold)), axis=1)\n",
    "    # 測試模型\n",
    "    final_train, final_test = train_test_split(final_data, test_size=0.2, random_state=0)\n",
    "    final_train_X, final_train_y = final_train[final_input_field], final_train[output_field]\n",
    "    final_test_X, final_test_y = final_test[final_input_field], final_test[output_field]\n",
    "    \n",
    "    final_forest_classifier = RandomForestClassifier().fit(final_train_X, final_train_y)\n",
    "    final_predict = final_forest_classifier.predict(final_test_X)\n",
    "    final_accuracy_score = accuracy_score(final_test_y, final_predict)\n",
    "    accuracy_scores.append(final_accuracy_score)\n",
    "    # print(f'In threshold={threshold}, rgb_flux_accuracy_score={rgb_flux_accuracy_score}')\n",
    "    # print('-'*50)"
   ]
  },
  {
   "cell_type": "code",
   "execution_count": 63,
   "id": "60feb880-7446-4172-9016-296682392717",
   "metadata": {},
   "outputs": [
    {
     "data": {
      "image/png": "[encoded data removed]",
      "text/plain": [
       "<Figure size 640x480 with 1 Axes>"
      ]
     },
     "metadata": {},
     "output_type": "display_data"
    }
   ],
   "source": [
    "sns.lineplot(x=threasholds, y=accuracy_scores)\n",
    "for x, y in zip(threasholds, accuracy_scores):\n",
    "    plt.text(x=x, y=y+0.01, s=f'threashold={x:.1f},\\ny={y}')\n",
    "plt.show()"
   ]
  },
  {
   "cell_type": "code",
   "execution_count": 191,
   "id": "e94437fd-6d91-4e2a-a151-d18212f9f074",
   "metadata": {},
   "outputs": [],
   "source": [
    "# save model\n",
    "import pickle\n",
    "save_path = 'output/model'\n",
    "\n",
    "with open(f'{save_path}/model.pkl', 'wb') as f:\n",
    "          pickle.dump(rgb_flux_forest_classifier, f)"
   ]
  },
  {
   "cell_type": "code",
   "execution_count": null,
   "id": "f33a4cdd-6a05-43bf-93f4-95b489f42093",
   "metadata": {},
   "outputs": [],
   "source": []
  }
 ],
 "metadata": {
  "kernelspec": {
   "display_name": "Python 3 (ipykernel)",
   "language": "python",
   "name": "python3"
  },
  "language_info": {
   "codemirror_mode": {
    "name": "ipython",
    "version": 3
   },
   "file_extension": ".py",
   "mimetype": "text/x-python",
   "name": "python",
   "nbconvert_exporter": "python",
   "pygments_lexer": "ipython3",
   "version": "3.13.1"
  }
 },
 "nbformat": 4,
 "nbformat_minor": 5
}
